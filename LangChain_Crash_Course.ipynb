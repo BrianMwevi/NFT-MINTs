{
  "nbformat": 4,
  "nbformat_minor": 0,
  "metadata": {
    "colab": {
      "provenance": [],
      "include_colab_link": true
    },
    "kernelspec": {
      "name": "python3",
      "display_name": "Python 3"
    },
    "language_info": {
      "name": "python"
    }
  },
  "cells": [
    {
      "cell_type": "markdown",
      "metadata": {
        "id": "view-in-github",
        "colab_type": "text"
      },
      "source": [
        "<a href=\"https://colab.research.google.com/github/BrianMwevi/NFT-MINTs/blob/main/LangChain_Crash_Course.ipynb\" target=\"_parent\"><img src=\"https://colab.research.google.com/assets/colab-badge.svg\" alt=\"Open In Colab\"/></a>"
      ]
    },
    {
      "cell_type": "markdown",
      "source": [
        "# **LangChain**  🦜🔗   🦜🔗  🦜🔗  === Crash Course created by **Prompt Engineer**\n",
        "\n",
        "---\n",
        "Subscribe: https://www.youtube.com/channel/UCX6c6hTIqcphjMsXbeanJ1g\n",
        "\n",
        "Referred from: https://www.youtube.com/watch?v=76rT5mgZs5E\n",
        "\n",
        "25 Tools 🔫 for Agents 🤵 in LangChain 🦜 | Wikipedia Integration | Use AI\n",
        "\n",
        "\n",
        "**LangChain is a framework for developing applications powered by language models.** ✈\n",
        "\n",
        "\n",
        "**Be data-aware:** :🧨connect a language model to other sources of data:\n",
        "\n",
        "**Be agentic:** :🏏Allow a language model to interact with its environment"
      ],
      "metadata": {
        "id": "fHdtTGJZ94hw"
      }
    },
    {
      "cell_type": "markdown",
      "source": [
        "**MODELS** \n",
        "\n",
        "**PROMPTS**\n",
        "\n",
        "**INDEXES**\n",
        "\n",
        "**MEMORY**\n",
        "\n",
        "**CHAINS**\n",
        "\n",
        "**AGENTS**"
      ],
      "metadata": {
        "id": "pXcFxOVZGcRe"
      }
    },
    {
      "cell_type": "markdown",
      "source": [
        "# **Agents**"
      ],
      "metadata": {
        "id": "O06QTBia-NA0"
      }
    },
    {
      "cell_type": "markdown",
      "source": [
        "**Agents can take decision, given a repertoire of Tools**"
      ],
      "metadata": {
        "id": "KlZTzsiS-B26"
      }
    },
    {
      "cell_type": "markdown",
      "source": [
        "**Agents**\n",
        "\n",
        "The language model that drives decision making. List of Agents: [link here](https://python.langchain.com/en/latest/modules/agents/agents.html)\n",
        "\n",
        "\n",
        "**Tools**\n",
        "\n",
        "How language models interact with other resources. List of Tools: [link here](https://python.langchain.com/en/latest/modules/agents/tools.html)\n",
        "\n",
        "\n",
        "**Toolkits**\n",
        "\n",
        "Sets of tools that when used together can accomplish a specific task. List of Toolkits: [link here](https://python.langchain.com/en/latest/modules/agents/toolkits.html)\n",
        "\n",
        "\n",
        "\n",
        "**Agent Executor**\n",
        "\n",
        "The logic for running agents with tools. [link Here](https://python.langchain.com/en/latest/modules/agents/agent_executors.html)"
      ],
      "metadata": {
        "id": "lvkRm0SK-E7f"
      }
    },
    {
      "cell_type": "markdown",
      "source": [
        "RUN THESE INSTALLATIONS"
      ],
      "metadata": {
        "id": "dJxiurj1-WCV"
      }
    },
    {
      "cell_type": "code",
      "source": [
        "!pip install langchain openai tiktoken Cython unstructured pdfminer faiss-cpu google-search-results wikipedia pip install duckduckgo-search"
      ],
      "metadata": {
        "id": "bu6lOjUs-QQ7"
      },
      "execution_count": null,
      "outputs": []
    },
    {
      "cell_type": "code",
      "source": [
        "from langchain.agents import load_tools\n",
        "from langchain.agents import initialize_agent\n",
        "from langchain.llms import OpenAI"
      ],
      "metadata": {
        "id": "OnVEPT38-Zq4"
      },
      "execution_count": null,
      "outputs": []
    },
    {
      "cell_type": "markdown",
      "source": [
        "**List of Toolboxes**"
      ],
      "metadata": {
        "id": "-JnOx1d7-wrg"
      }
    },
    {
      "cell_type": "markdown",
      "source": [
        "In this documentation we cover generic tooling functionality (eg how to create your own) as well as examples of tools and how to use them.\n",
        "\n",
        "1.\t**Apify**: Apify is a cloud platform for web scraping and data extraction, which provides an ecosystem of more than a thousand ready-made apps called Actors for various scraping, crawling, and extraction use cases.\n",
        "2.\t**ArXiv API Tool** : ArXiv is a free distribution service and an open-access archive for 2,249,493 scholarly articles in the fields of physics, mathematics, computer science, quantitative biology, quantitative finance, statistics, electrical engineering and systems science, and economics.\n",
        "3.\t**AWS Lambda API**: You can grant your Agent the ability to invoke code running in your AWS Cloud for whatever purposes you need.\n",
        "4.\t**Shell Tool**: The LLM can use it to execute any shell commands. A common use case for this is letting the LLM interact with your local file system.\n",
        "5.\t**Bing Search**: Tool to use the bing search component.\n",
        "6.\t**ChatGPT Plugins**: Use ChatGPT Plugins within LangChain abstractions.\n",
        "7.\t**DuckDuckGo Search**: Tool to use duck-duck-go search component\n",
        "8.\t**File System Tools**: LangChain provides tools for interacting with a local file system out of the box\n",
        "9.\t**Google Places**: This Google Places API is a service that accepts HTTP requests for location data through a variety of methods.\n",
        "\n",
        "10.\t**Google Search**: Use the Google Search Tool\n",
        "11. **Google Serper API**: Use the Google Serper component to search the web\n",
        "12.\t**Gradio Tools**: Gradio-tools is a Python library for converting Gradio apps into tools that can be leveraged by a large language model (LLM)-based agent to complete its task. **Very Interesting**\n",
        "13.\t**Human as a tool**: Human are AGI so they can certainly be used as a tool to help out AI agent when it is confused\n",
        "14.\t**IFTTT WebHooks**: IFTTT is an Data Integration Service that allows Businesses to link over 630 Apps within minutes\n",
        "15.\t**OpenWeatherMap API**: Use the OpenWeatherMap component to fetch weather information\n",
        "16.\t**Python REPL**: REPL (Read-Eval-Print Loop). Sometimes, for complex calculations, rather than have an LLM generate the answer directly, it can be better to have the LLM generate code to calculate the answer, and then run that code to get the answer\n",
        "17.\t**Requests**: To take in a URL and fetch data from that URL.\n",
        "18.\t**SceneXplain**: SceneXplain is an ImageCaptioning service accessible through the SceneXplain Tool. Just Like Mini-GPT. https://youtu.be/ylRlO9yLagk\n",
        "19.\t**Search Tools**: Presently 4 search engine integrated\n",
        "20.\t**SearxNG Search API**: Use a self hosted SearxNG search API to search the web\n",
        "21.\t**SerpAPI**: Use the SerpAPI component to search the web.\n",
        "22.\t**Wikipedia API**: Use the wikipedia component\n",
        "23.\t**Wolfram Alpha**: Use the wolfram alpha component.\n",
        "24.\t**Zapier Natural Language Actions API**: Zapier Natural Language Actions gives you access to the 5k+ apps, 20k+ actions on Zapier’s platform through a natural language API interface\n",
        "25.\t**Example with SimpleSequentialChain**: Provides more examples for explicit control\n"
      ],
      "metadata": {
        "id": "NL22KCXh-1cu"
      }
    },
    {
      "cell_type": "markdown",
      "source": [
        "Tool No 22: **WIKIPEDIA INTEGRATION**"
      ],
      "metadata": {
        "id": "yMQSW6iSFV8a"
      }
    },
    {
      "cell_type": "code",
      "source": [
        "!pip install wikipedia"
      ],
      "metadata": {
        "id": "wqfhLZ2YFjch"
      },
      "execution_count": null,
      "outputs": []
    },
    {
      "cell_type": "code",
      "source": [
        "from langchain.utilities import WikipediaAPIWrapper\n",
        "wikipedia = WikipediaAPIWrapper()"
      ],
      "metadata": {
        "id": "p92Eyam6FtBo"
      },
      "execution_count": null,
      "outputs": []
    },
    {
      "cell_type": "code",
      "source": [
        "wikipedia.run('Stopping by Woods on a Snowy Evening')"
      ],
      "metadata": {
        "id": "akKiqPt_FyE-"
      },
      "execution_count": null,
      "outputs": []
    },
    {
      "cell_type": "code",
      "source": [
        "wikipedia.run('Oliver Twist')"
      ],
      "metadata": {
        "id": "R_2d9DGYJG6t"
      },
      "execution_count": null,
      "outputs": []
    },
    {
      "cell_type": "code",
      "source": [
        "wikipedia.run('Seven Habits of Highly Effective People')"
      ],
      "metadata": {
        "id": "vHdmhzvsJcLr"
      },
      "execution_count": null,
      "outputs": []
    },
    {
      "cell_type": "markdown",
      "source": [
        "**SEARCH ENGINES' PLAYBOOK**"
      ],
      "metadata": {
        "id": "zp7Q982flJ6G"
      }
    },
    {
      "cell_type": "code",
      "source": [
        "from langchain.agents import load_tools\n",
        "from langchain.agents import initialize_agent\n",
        "from langchain.llms import OpenAI\n",
        "from langchain.tools import DuckDuckGoSearchRun\n",
        "\n",
        "import os\n",
        "os.environ[\"OPENAI_API_KEY\"] = 'YOUR KEYS' #15\n",
        "os.environ[\"SERPAPI_API_KEY\"] = 'YOUR KEYS'\n"
      ],
      "metadata": {
        "id": "w0-HN_41lRs4"
      },
      "execution_count": null,
      "outputs": []
    },
    {
      "cell_type": "code",
      "source": [
        "llm = OpenAI(temperature=1)"
      ],
      "metadata": {
        "id": "MQUEngRplmLI"
      },
      "execution_count": null,
      "outputs": []
    },
    {
      "cell_type": "code",
      "source": [
        "# search = DuckDuckGoSearchRun()\n",
        "tool_names = [\"serpapi\", 'llm-math']\n",
        "tools = load_tools(tool_names, llm=llm)"
      ],
      "metadata": {
        "id": "ZTtpMJ8jlt6x"
      },
      "execution_count": null,
      "outputs": []
    },
    {
      "cell_type": "code",
      "source": [
        "agent = initialize_agent(tools, llm, agent=\"zero-shot-react-description\", verbose=True)"
      ],
      "metadata": {
        "id": "nXJ2Wct4lvo4"
      },
      "execution_count": null,
      "outputs": []
    },
    {
      "cell_type": "code",
      "source": [
        "agent.run(\"Who is Leo DiCaprio's girlfriend? What is her current age raised to the 0.43 power?\")"
      ],
      "metadata": {
        "colab": {
          "base_uri": "https://localhost:8080/",
          "height": 315
        },
        "id": "LcDag20yl0cR",
        "outputId": "c94e507b-5313-48eb-d844-2643f35339ea"
      },
      "execution_count": null,
      "outputs": [
        {
          "output_type": "stream",
          "name": "stdout",
          "text": [
            "\n",
            "\n",
            "\u001b[1m> Entering new AgentExecutor chain...\u001b[0m\n",
            "\u001b[32;1m\u001b[1;3m This requires knowledge about 2 topics: Leo DiCaprio's girlfriend and exponents.\n",
            "Action: Search\n",
            "Action Input: Leo DiCaprio's girlfriend\u001b[0m\n",
            "Observation: \u001b[36;1m\u001b[1;3mHe went on to date Gisele Bündchen, Bar Refaeli, Blake Lively, Toni Garrn and Nina Agdal, among others, before finally settling down with current girlfriend Camila Morrone, who is 23 years his junior.\u001b[0m\n",
            "Thought:\u001b[32;1m\u001b[1;3m I now need to calculate the 0.43 power of Camila Morrone's age\n",
            "Action: Calculator\n",
            "Action Input: (21)^0.43\u001b[0m\n",
            "Observation: \u001b[33;1m\u001b[1;3mAnswer: 3.7030049853137306\u001b[0m\n",
            "Thought:\u001b[32;1m\u001b[1;3m I now know the final answer\n",
            "Final Answer: Camila Morrone is Leo DiCaprio's girlfriend, and her current age raised to the 0.43 power is 3.7030049853137306.\u001b[0m\n",
            "\n",
            "\u001b[1m> Finished chain.\u001b[0m\n"
          ]
        },
        {
          "output_type": "execute_result",
          "data": {
            "text/plain": [
              "\"Camila Morrone is Leo DiCaprio's girlfriend, and her current age raised to the 0.43 power is 3.7030049853137306.\""
            ],
            "application/vnd.google.colaboratory.intrinsic+json": {
              "type": "string"
            }
          },
          "metadata": {},
          "execution_count": 17
        }
      ]
    }
  ]
}